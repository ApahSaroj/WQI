{
  "nbformat": 4,
  "nbformat_minor": 0,
  "metadata": {
    "colab": {
      "name": "Regression_WQI.ipynb",
      "provenance": [],
      "authorship_tag": "ABX9TyOtRTbYgRSJZdh4ovmk3IXX",
      "include_colab_link": true
    },
    "kernelspec": {
      "name": "python3",
      "display_name": "Python 3"
    },
    "language_info": {
      "name": "python"
    }
  },
  "cells": [
    {
      "cell_type": "markdown",
      "metadata": {
        "id": "view-in-github",
        "colab_type": "text"
      },
      "source": [
        "<a href=\"https://colab.research.google.com/github/ApahSaroj/WQI/blob/main/Regression_WQI.ipynb\" target=\"_parent\"><img src=\"https://colab.research.google.com/assets/colab-badge.svg\" alt=\"Open In Colab\"/></a>"
      ]
    },
    {
      "cell_type": "code",
      "metadata": {
        "id": "MmjBO5RevL1u"
      },
      "source": [
        "from google.colab import drive"
      ],
      "execution_count": 1,
      "outputs": []
    },
    {
      "cell_type": "code",
      "metadata": {
        "colab": {
          "base_uri": "https://localhost:8080/"
        },
        "id": "y7blCRpnvRWT",
        "outputId": "fd871498-8ec3-48dc-f820-ffaefbba8846"
      },
      "source": [
        "drive.mount('/content/drive')"
      ],
      "execution_count": 2,
      "outputs": [
        {
          "output_type": "stream",
          "text": [
            "Drive already mounted at /content/drive; to attempt to forcibly remount, call drive.mount(\"/content/drive\", force_remount=True).\n"
          ],
          "name": "stdout"
        }
      ]
    },
    {
      "cell_type": "code",
      "metadata": {
        "colab": {
          "base_uri": "https://localhost:8080/",
          "height": 793
        },
        "id": "673ozOzHvWL6",
        "outputId": "3f4d9cc8-9716-479e-efd2-3caacfe46ab3"
      },
      "source": [
        "import pandas as pd\n",
        "df = pd.read_csv('/content/drive/MyDrive/DATA/Tal.csv')\n",
        "df"
      ],
      "execution_count": 3,
      "outputs": [
        {
          "output_type": "execute_result",
          "data": {
            "text/html": [
              "<div>\n",
              "<style scoped>\n",
              "    .dataframe tbody tr th:only-of-type {\n",
              "        vertical-align: middle;\n",
              "    }\n",
              "\n",
              "    .dataframe tbody tr th {\n",
              "        vertical-align: top;\n",
              "    }\n",
              "\n",
              "    .dataframe thead th {\n",
              "        text-align: right;\n",
              "    }\n",
              "</style>\n",
              "<table border=\"1\" class=\"dataframe\">\n",
              "  <thead>\n",
              "    <tr style=\"text-align: right;\">\n",
              "      <th></th>\n",
              "      <th>Unnamed: 0</th>\n",
              "      <th>Ph</th>\n",
              "      <th>DO</th>\n",
              "      <th>BOD</th>\n",
              "      <th>TC</th>\n",
              "      <th>FC</th>\n",
              "      <th>wqi</th>\n",
              "    </tr>\n",
              "  </thead>\n",
              "  <tbody>\n",
              "    <tr>\n",
              "      <th>0</th>\n",
              "      <td>0</td>\n",
              "      <td>8.33</td>\n",
              "      <td>6.67</td>\n",
              "      <td>4.30</td>\n",
              "      <td>98435.33</td>\n",
              "      <td>93183.69</td>\n",
              "      <td>55.14</td>\n",
              "    </tr>\n",
              "    <tr>\n",
              "      <th>1</th>\n",
              "      <td>1</td>\n",
              "      <td>7.35</td>\n",
              "      <td>7.57</td>\n",
              "      <td>5.15</td>\n",
              "      <td>45222.91</td>\n",
              "      <td>61149.88</td>\n",
              "      <td>55.14</td>\n",
              "    </tr>\n",
              "    <tr>\n",
              "      <th>2</th>\n",
              "      <td>2</td>\n",
              "      <td>8.28</td>\n",
              "      <td>7.91</td>\n",
              "      <td>3.32</td>\n",
              "      <td>77784.31</td>\n",
              "      <td>63018.54</td>\n",
              "      <td>55.14</td>\n",
              "    </tr>\n",
              "    <tr>\n",
              "      <th>3</th>\n",
              "      <td>3</td>\n",
              "      <td>7.57</td>\n",
              "      <td>7.88</td>\n",
              "      <td>4.98</td>\n",
              "      <td>29773.00</td>\n",
              "      <td>74734.65</td>\n",
              "      <td>55.14</td>\n",
              "    </tr>\n",
              "    <tr>\n",
              "      <th>4</th>\n",
              "      <td>4</td>\n",
              "      <td>7.83</td>\n",
              "      <td>6.29</td>\n",
              "      <td>8.22</td>\n",
              "      <td>120213.00</td>\n",
              "      <td>22230.46</td>\n",
              "      <td>48.48</td>\n",
              "    </tr>\n",
              "    <tr>\n",
              "      <th>5</th>\n",
              "      <td>5</td>\n",
              "      <td>7.36</td>\n",
              "      <td>6.40</td>\n",
              "      <td>3.77</td>\n",
              "      <td>90473.95</td>\n",
              "      <td>82701.29</td>\n",
              "      <td>55.14</td>\n",
              "    </tr>\n",
              "    <tr>\n",
              "      <th>6</th>\n",
              "      <td>6</td>\n",
              "      <td>7.87</td>\n",
              "      <td>8.12</td>\n",
              "      <td>7.78</td>\n",
              "      <td>75339.40</td>\n",
              "      <td>44703.84</td>\n",
              "      <td>48.48</td>\n",
              "    </tr>\n",
              "    <tr>\n",
              "      <th>7</th>\n",
              "      <td>7</td>\n",
              "      <td>8.17</td>\n",
              "      <td>9.41</td>\n",
              "      <td>11.65</td>\n",
              "      <td>126373.96</td>\n",
              "      <td>145249.06</td>\n",
              "      <td>48.48</td>\n",
              "    </tr>\n",
              "    <tr>\n",
              "      <th>8</th>\n",
              "      <td>8</td>\n",
              "      <td>7.82</td>\n",
              "      <td>3.83</td>\n",
              "      <td>5.89</td>\n",
              "      <td>91828.23</td>\n",
              "      <td>116010.48</td>\n",
              "      <td>45.12</td>\n",
              "    </tr>\n",
              "    <tr>\n",
              "      <th>9</th>\n",
              "      <td>9</td>\n",
              "      <td>7.86</td>\n",
              "      <td>2.28</td>\n",
              "      <td>10.51</td>\n",
              "      <td>155970.11</td>\n",
              "      <td>136106.05</td>\n",
              "      <td>31.78</td>\n",
              "    </tr>\n",
              "    <tr>\n",
              "      <th>10</th>\n",
              "      <td>10</td>\n",
              "      <td>8.02</td>\n",
              "      <td>3.15</td>\n",
              "      <td>0.07</td>\n",
              "      <td>61988.04</td>\n",
              "      <td>164001.79</td>\n",
              "      <td>51.78</td>\n",
              "    </tr>\n",
              "    <tr>\n",
              "      <th>11</th>\n",
              "      <td>11</td>\n",
              "      <td>7.19</td>\n",
              "      <td>6.22</td>\n",
              "      <td>0.28</td>\n",
              "      <td>133407.80</td>\n",
              "      <td>73519.65</td>\n",
              "      <td>61.80</td>\n",
              "    </tr>\n",
              "    <tr>\n",
              "      <th>12</th>\n",
              "      <td>12</td>\n",
              "      <td>7.38</td>\n",
              "      <td>5.73</td>\n",
              "      <td>-0.49</td>\n",
              "      <td>66539.56</td>\n",
              "      <td>127032.76</td>\n",
              "      <td>25.16</td>\n",
              "    </tr>\n",
              "    <tr>\n",
              "      <th>13</th>\n",
              "      <td>13</td>\n",
              "      <td>7.93</td>\n",
              "      <td>5.68</td>\n",
              "      <td>2.64</td>\n",
              "      <td>70773.77</td>\n",
              "      <td>103708.83</td>\n",
              "      <td>58.46</td>\n",
              "    </tr>\n",
              "    <tr>\n",
              "      <th>14</th>\n",
              "      <td>14</td>\n",
              "      <td>7.52</td>\n",
              "      <td>5.59</td>\n",
              "      <td>8.30</td>\n",
              "      <td>96338.67</td>\n",
              "      <td>152823.98</td>\n",
              "      <td>45.14</td>\n",
              "    </tr>\n",
              "    <tr>\n",
              "      <th>15</th>\n",
              "      <td>15</td>\n",
              "      <td>7.27</td>\n",
              "      <td>5.44</td>\n",
              "      <td>1.30</td>\n",
              "      <td>135755.94</td>\n",
              "      <td>69261.41</td>\n",
              "      <td>58.46</td>\n",
              "    </tr>\n",
              "    <tr>\n",
              "      <th>16</th>\n",
              "      <td>16</td>\n",
              "      <td>7.44</td>\n",
              "      <td>8.69</td>\n",
              "      <td>7.08</td>\n",
              "      <td>46161.30</td>\n",
              "      <td>98570.74</td>\n",
              "      <td>48.48</td>\n",
              "    </tr>\n",
              "    <tr>\n",
              "      <th>17</th>\n",
              "      <td>17</td>\n",
              "      <td>8.00</td>\n",
              "      <td>7.68</td>\n",
              "      <td>9.63</td>\n",
              "      <td>45089.03</td>\n",
              "      <td>2002.47</td>\n",
              "      <td>56.48</td>\n",
              "    </tr>\n",
              "    <tr>\n",
              "      <th>18</th>\n",
              "      <td>18</td>\n",
              "      <td>7.89</td>\n",
              "      <td>7.48</td>\n",
              "      <td>5.46</td>\n",
              "      <td>71096.88</td>\n",
              "      <td>87019.62</td>\n",
              "      <td>55.14</td>\n",
              "    </tr>\n",
              "    <tr>\n",
              "      <th>19</th>\n",
              "      <td>19</td>\n",
              "      <td>7.71</td>\n",
              "      <td>6.42</td>\n",
              "      <td>5.65</td>\n",
              "      <td>1680.94</td>\n",
              "      <td>63191.05</td>\n",
              "      <td>63.14</td>\n",
              "    </tr>\n",
              "    <tr>\n",
              "      <th>20</th>\n",
              "      <td>20</td>\n",
              "      <td>7.26</td>\n",
              "      <td>7.12</td>\n",
              "      <td>3.62</td>\n",
              "      <td>32768.43</td>\n",
              "      <td>20292.15</td>\n",
              "      <td>55.14</td>\n",
              "    </tr>\n",
              "    <tr>\n",
              "      <th>21</th>\n",
              "      <td>21</td>\n",
              "      <td>7.70</td>\n",
              "      <td>6.05</td>\n",
              "      <td>1.21</td>\n",
              "      <td>30165.58</td>\n",
              "      <td>92652.24</td>\n",
              "      <td>61.80</td>\n",
              "    </tr>\n",
              "    <tr>\n",
              "      <th>22</th>\n",
              "      <td>22</td>\n",
              "      <td>7.91</td>\n",
              "      <td>4.46</td>\n",
              "      <td>5.79</td>\n",
              "      <td>70186.94</td>\n",
              "      <td>68395.91</td>\n",
              "      <td>48.46</td>\n",
              "    </tr>\n",
              "    <tr>\n",
              "      <th>23</th>\n",
              "      <td>23</td>\n",
              "      <td>8.15</td>\n",
              "      <td>2.40</td>\n",
              "      <td>5.69</td>\n",
              "      <td>81302.93</td>\n",
              "      <td>-4099.18</td>\n",
              "      <td>38.44</td>\n",
              "    </tr>\n",
              "  </tbody>\n",
              "</table>\n",
              "</div>"
            ],
            "text/plain": [
              "    Unnamed: 0    Ph    DO    BOD         TC         FC    wqi\n",
              "0            0  8.33  6.67   4.30   98435.33   93183.69  55.14\n",
              "1            1  7.35  7.57   5.15   45222.91   61149.88  55.14\n",
              "2            2  8.28  7.91   3.32   77784.31   63018.54  55.14\n",
              "3            3  7.57  7.88   4.98   29773.00   74734.65  55.14\n",
              "4            4  7.83  6.29   8.22  120213.00   22230.46  48.48\n",
              "5            5  7.36  6.40   3.77   90473.95   82701.29  55.14\n",
              "6            6  7.87  8.12   7.78   75339.40   44703.84  48.48\n",
              "7            7  8.17  9.41  11.65  126373.96  145249.06  48.48\n",
              "8            8  7.82  3.83   5.89   91828.23  116010.48  45.12\n",
              "9            9  7.86  2.28  10.51  155970.11  136106.05  31.78\n",
              "10          10  8.02  3.15   0.07   61988.04  164001.79  51.78\n",
              "11          11  7.19  6.22   0.28  133407.80   73519.65  61.80\n",
              "12          12  7.38  5.73  -0.49   66539.56  127032.76  25.16\n",
              "13          13  7.93  5.68   2.64   70773.77  103708.83  58.46\n",
              "14          14  7.52  5.59   8.30   96338.67  152823.98  45.14\n",
              "15          15  7.27  5.44   1.30  135755.94   69261.41  58.46\n",
              "16          16  7.44  8.69   7.08   46161.30   98570.74  48.48\n",
              "17          17  8.00  7.68   9.63   45089.03    2002.47  56.48\n",
              "18          18  7.89  7.48   5.46   71096.88   87019.62  55.14\n",
              "19          19  7.71  6.42   5.65    1680.94   63191.05  63.14\n",
              "20          20  7.26  7.12   3.62   32768.43   20292.15  55.14\n",
              "21          21  7.70  6.05   1.21   30165.58   92652.24  61.80\n",
              "22          22  7.91  4.46   5.79   70186.94   68395.91  48.46\n",
              "23          23  8.15  2.40   5.69   81302.93   -4099.18  38.44"
            ]
          },
          "metadata": {
            "tags": []
          },
          "execution_count": 3
        }
      ]
    },
    {
      "cell_type": "code",
      "metadata": {
        "colab": {
          "base_uri": "https://localhost:8080/"
        },
        "id": "E9OJntBjvlAG",
        "outputId": "a68bdaf3-bea8-4565-c8bb-d20c3137b7ae"
      },
      "source": [
        "df.info()"
      ],
      "execution_count": 4,
      "outputs": [
        {
          "output_type": "stream",
          "text": [
            "<class 'pandas.core.frame.DataFrame'>\n",
            "RangeIndex: 24 entries, 0 to 23\n",
            "Data columns (total 7 columns):\n",
            " #   Column      Non-Null Count  Dtype  \n",
            "---  ------      --------------  -----  \n",
            " 0   Unnamed: 0  24 non-null     int64  \n",
            " 1   Ph          24 non-null     float64\n",
            " 2   DO          24 non-null     float64\n",
            " 3   BOD         24 non-null     float64\n",
            " 4   TC          24 non-null     float64\n",
            " 5   FC          24 non-null     float64\n",
            " 6   wqi         24 non-null     float64\n",
            "dtypes: float64(6), int64(1)\n",
            "memory usage: 1.4 KB\n"
          ],
          "name": "stdout"
        }
      ]
    },
    {
      "cell_type": "code",
      "metadata": {
        "colab": {
          "base_uri": "https://localhost:8080/"
        },
        "id": "VQvTRPmuvpez",
        "outputId": "a0db0408-751d-49d5-d518-918ff5421af9"
      },
      "source": [
        "df.isnull().sum()"
      ],
      "execution_count": 5,
      "outputs": [
        {
          "output_type": "execute_result",
          "data": {
            "text/plain": [
              "Unnamed: 0    0\n",
              "Ph            0\n",
              "DO            0\n",
              "BOD           0\n",
              "TC            0\n",
              "FC            0\n",
              "wqi           0\n",
              "dtype: int64"
            ]
          },
          "metadata": {
            "tags": []
          },
          "execution_count": 5
        }
      ]
    },
    {
      "cell_type": "code",
      "metadata": {
        "colab": {
          "base_uri": "https://localhost:8080/",
          "height": 793
        },
        "id": "ddx0yDCJwEke",
        "outputId": "c6d145ae-ed8c-43d5-affe-812867433a69"
      },
      "source": [
        "df.drop(df.columns[df.columns.str.contains('unnamed',case = False)],axis = 1, inplace = True)\n",
        "df"
      ],
      "execution_count": 6,
      "outputs": [
        {
          "output_type": "execute_result",
          "data": {
            "text/html": [
              "<div>\n",
              "<style scoped>\n",
              "    .dataframe tbody tr th:only-of-type {\n",
              "        vertical-align: middle;\n",
              "    }\n",
              "\n",
              "    .dataframe tbody tr th {\n",
              "        vertical-align: top;\n",
              "    }\n",
              "\n",
              "    .dataframe thead th {\n",
              "        text-align: right;\n",
              "    }\n",
              "</style>\n",
              "<table border=\"1\" class=\"dataframe\">\n",
              "  <thead>\n",
              "    <tr style=\"text-align: right;\">\n",
              "      <th></th>\n",
              "      <th>Ph</th>\n",
              "      <th>DO</th>\n",
              "      <th>BOD</th>\n",
              "      <th>TC</th>\n",
              "      <th>FC</th>\n",
              "      <th>wqi</th>\n",
              "    </tr>\n",
              "  </thead>\n",
              "  <tbody>\n",
              "    <tr>\n",
              "      <th>0</th>\n",
              "      <td>8.33</td>\n",
              "      <td>6.67</td>\n",
              "      <td>4.30</td>\n",
              "      <td>98435.33</td>\n",
              "      <td>93183.69</td>\n",
              "      <td>55.14</td>\n",
              "    </tr>\n",
              "    <tr>\n",
              "      <th>1</th>\n",
              "      <td>7.35</td>\n",
              "      <td>7.57</td>\n",
              "      <td>5.15</td>\n",
              "      <td>45222.91</td>\n",
              "      <td>61149.88</td>\n",
              "      <td>55.14</td>\n",
              "    </tr>\n",
              "    <tr>\n",
              "      <th>2</th>\n",
              "      <td>8.28</td>\n",
              "      <td>7.91</td>\n",
              "      <td>3.32</td>\n",
              "      <td>77784.31</td>\n",
              "      <td>63018.54</td>\n",
              "      <td>55.14</td>\n",
              "    </tr>\n",
              "    <tr>\n",
              "      <th>3</th>\n",
              "      <td>7.57</td>\n",
              "      <td>7.88</td>\n",
              "      <td>4.98</td>\n",
              "      <td>29773.00</td>\n",
              "      <td>74734.65</td>\n",
              "      <td>55.14</td>\n",
              "    </tr>\n",
              "    <tr>\n",
              "      <th>4</th>\n",
              "      <td>7.83</td>\n",
              "      <td>6.29</td>\n",
              "      <td>8.22</td>\n",
              "      <td>120213.00</td>\n",
              "      <td>22230.46</td>\n",
              "      <td>48.48</td>\n",
              "    </tr>\n",
              "    <tr>\n",
              "      <th>5</th>\n",
              "      <td>7.36</td>\n",
              "      <td>6.40</td>\n",
              "      <td>3.77</td>\n",
              "      <td>90473.95</td>\n",
              "      <td>82701.29</td>\n",
              "      <td>55.14</td>\n",
              "    </tr>\n",
              "    <tr>\n",
              "      <th>6</th>\n",
              "      <td>7.87</td>\n",
              "      <td>8.12</td>\n",
              "      <td>7.78</td>\n",
              "      <td>75339.40</td>\n",
              "      <td>44703.84</td>\n",
              "      <td>48.48</td>\n",
              "    </tr>\n",
              "    <tr>\n",
              "      <th>7</th>\n",
              "      <td>8.17</td>\n",
              "      <td>9.41</td>\n",
              "      <td>11.65</td>\n",
              "      <td>126373.96</td>\n",
              "      <td>145249.06</td>\n",
              "      <td>48.48</td>\n",
              "    </tr>\n",
              "    <tr>\n",
              "      <th>8</th>\n",
              "      <td>7.82</td>\n",
              "      <td>3.83</td>\n",
              "      <td>5.89</td>\n",
              "      <td>91828.23</td>\n",
              "      <td>116010.48</td>\n",
              "      <td>45.12</td>\n",
              "    </tr>\n",
              "    <tr>\n",
              "      <th>9</th>\n",
              "      <td>7.86</td>\n",
              "      <td>2.28</td>\n",
              "      <td>10.51</td>\n",
              "      <td>155970.11</td>\n",
              "      <td>136106.05</td>\n",
              "      <td>31.78</td>\n",
              "    </tr>\n",
              "    <tr>\n",
              "      <th>10</th>\n",
              "      <td>8.02</td>\n",
              "      <td>3.15</td>\n",
              "      <td>0.07</td>\n",
              "      <td>61988.04</td>\n",
              "      <td>164001.79</td>\n",
              "      <td>51.78</td>\n",
              "    </tr>\n",
              "    <tr>\n",
              "      <th>11</th>\n",
              "      <td>7.19</td>\n",
              "      <td>6.22</td>\n",
              "      <td>0.28</td>\n",
              "      <td>133407.80</td>\n",
              "      <td>73519.65</td>\n",
              "      <td>61.80</td>\n",
              "    </tr>\n",
              "    <tr>\n",
              "      <th>12</th>\n",
              "      <td>7.38</td>\n",
              "      <td>5.73</td>\n",
              "      <td>-0.49</td>\n",
              "      <td>66539.56</td>\n",
              "      <td>127032.76</td>\n",
              "      <td>25.16</td>\n",
              "    </tr>\n",
              "    <tr>\n",
              "      <th>13</th>\n",
              "      <td>7.93</td>\n",
              "      <td>5.68</td>\n",
              "      <td>2.64</td>\n",
              "      <td>70773.77</td>\n",
              "      <td>103708.83</td>\n",
              "      <td>58.46</td>\n",
              "    </tr>\n",
              "    <tr>\n",
              "      <th>14</th>\n",
              "      <td>7.52</td>\n",
              "      <td>5.59</td>\n",
              "      <td>8.30</td>\n",
              "      <td>96338.67</td>\n",
              "      <td>152823.98</td>\n",
              "      <td>45.14</td>\n",
              "    </tr>\n",
              "    <tr>\n",
              "      <th>15</th>\n",
              "      <td>7.27</td>\n",
              "      <td>5.44</td>\n",
              "      <td>1.30</td>\n",
              "      <td>135755.94</td>\n",
              "      <td>69261.41</td>\n",
              "      <td>58.46</td>\n",
              "    </tr>\n",
              "    <tr>\n",
              "      <th>16</th>\n",
              "      <td>7.44</td>\n",
              "      <td>8.69</td>\n",
              "      <td>7.08</td>\n",
              "      <td>46161.30</td>\n",
              "      <td>98570.74</td>\n",
              "      <td>48.48</td>\n",
              "    </tr>\n",
              "    <tr>\n",
              "      <th>17</th>\n",
              "      <td>8.00</td>\n",
              "      <td>7.68</td>\n",
              "      <td>9.63</td>\n",
              "      <td>45089.03</td>\n",
              "      <td>2002.47</td>\n",
              "      <td>56.48</td>\n",
              "    </tr>\n",
              "    <tr>\n",
              "      <th>18</th>\n",
              "      <td>7.89</td>\n",
              "      <td>7.48</td>\n",
              "      <td>5.46</td>\n",
              "      <td>71096.88</td>\n",
              "      <td>87019.62</td>\n",
              "      <td>55.14</td>\n",
              "    </tr>\n",
              "    <tr>\n",
              "      <th>19</th>\n",
              "      <td>7.71</td>\n",
              "      <td>6.42</td>\n",
              "      <td>5.65</td>\n",
              "      <td>1680.94</td>\n",
              "      <td>63191.05</td>\n",
              "      <td>63.14</td>\n",
              "    </tr>\n",
              "    <tr>\n",
              "      <th>20</th>\n",
              "      <td>7.26</td>\n",
              "      <td>7.12</td>\n",
              "      <td>3.62</td>\n",
              "      <td>32768.43</td>\n",
              "      <td>20292.15</td>\n",
              "      <td>55.14</td>\n",
              "    </tr>\n",
              "    <tr>\n",
              "      <th>21</th>\n",
              "      <td>7.70</td>\n",
              "      <td>6.05</td>\n",
              "      <td>1.21</td>\n",
              "      <td>30165.58</td>\n",
              "      <td>92652.24</td>\n",
              "      <td>61.80</td>\n",
              "    </tr>\n",
              "    <tr>\n",
              "      <th>22</th>\n",
              "      <td>7.91</td>\n",
              "      <td>4.46</td>\n",
              "      <td>5.79</td>\n",
              "      <td>70186.94</td>\n",
              "      <td>68395.91</td>\n",
              "      <td>48.46</td>\n",
              "    </tr>\n",
              "    <tr>\n",
              "      <th>23</th>\n",
              "      <td>8.15</td>\n",
              "      <td>2.40</td>\n",
              "      <td>5.69</td>\n",
              "      <td>81302.93</td>\n",
              "      <td>-4099.18</td>\n",
              "      <td>38.44</td>\n",
              "    </tr>\n",
              "  </tbody>\n",
              "</table>\n",
              "</div>"
            ],
            "text/plain": [
              "      Ph    DO    BOD         TC         FC    wqi\n",
              "0   8.33  6.67   4.30   98435.33   93183.69  55.14\n",
              "1   7.35  7.57   5.15   45222.91   61149.88  55.14\n",
              "2   8.28  7.91   3.32   77784.31   63018.54  55.14\n",
              "3   7.57  7.88   4.98   29773.00   74734.65  55.14\n",
              "4   7.83  6.29   8.22  120213.00   22230.46  48.48\n",
              "5   7.36  6.40   3.77   90473.95   82701.29  55.14\n",
              "6   7.87  8.12   7.78   75339.40   44703.84  48.48\n",
              "7   8.17  9.41  11.65  126373.96  145249.06  48.48\n",
              "8   7.82  3.83   5.89   91828.23  116010.48  45.12\n",
              "9   7.86  2.28  10.51  155970.11  136106.05  31.78\n",
              "10  8.02  3.15   0.07   61988.04  164001.79  51.78\n",
              "11  7.19  6.22   0.28  133407.80   73519.65  61.80\n",
              "12  7.38  5.73  -0.49   66539.56  127032.76  25.16\n",
              "13  7.93  5.68   2.64   70773.77  103708.83  58.46\n",
              "14  7.52  5.59   8.30   96338.67  152823.98  45.14\n",
              "15  7.27  5.44   1.30  135755.94   69261.41  58.46\n",
              "16  7.44  8.69   7.08   46161.30   98570.74  48.48\n",
              "17  8.00  7.68   9.63   45089.03    2002.47  56.48\n",
              "18  7.89  7.48   5.46   71096.88   87019.62  55.14\n",
              "19  7.71  6.42   5.65    1680.94   63191.05  63.14\n",
              "20  7.26  7.12   3.62   32768.43   20292.15  55.14\n",
              "21  7.70  6.05   1.21   30165.58   92652.24  61.80\n",
              "22  7.91  4.46   5.79   70186.94   68395.91  48.46\n",
              "23  8.15  2.40   5.69   81302.93   -4099.18  38.44"
            ]
          },
          "metadata": {
            "tags": []
          },
          "execution_count": 6
        }
      ]
    },
    {
      "cell_type": "code",
      "metadata": {
        "colab": {
          "base_uri": "https://localhost:8080/"
        },
        "id": "ZwqFuJhfwRHr",
        "outputId": "9dfa995d-49bb-4226-9589-a7642e53344f"
      },
      "source": [
        "df.info()"
      ],
      "execution_count": 7,
      "outputs": [
        {
          "output_type": "stream",
          "text": [
            "<class 'pandas.core.frame.DataFrame'>\n",
            "RangeIndex: 24 entries, 0 to 23\n",
            "Data columns (total 6 columns):\n",
            " #   Column  Non-Null Count  Dtype  \n",
            "---  ------  --------------  -----  \n",
            " 0   Ph      24 non-null     float64\n",
            " 1   DO      24 non-null     float64\n",
            " 2   BOD     24 non-null     float64\n",
            " 3   TC      24 non-null     float64\n",
            " 4   FC      24 non-null     float64\n",
            " 5   wqi     24 non-null     float64\n",
            "dtypes: float64(6)\n",
            "memory usage: 1.2 KB\n"
          ],
          "name": "stdout"
        }
      ]
    },
    {
      "cell_type": "code",
      "metadata": {
        "colab": {
          "base_uri": "https://localhost:8080/",
          "height": 487
        },
        "id": "59pt0zmewaGm",
        "outputId": "12b64668-9fd9-40b6-cde7-2963ef9201cb"
      },
      "source": [
        "import matplotlib.pyplot as plt\n",
        "import seaborn as sns\n",
        "\n",
        "plt.figure(figsize = (16, 8))\n",
        "sns.heatmap(df.corr(), annot = True)\n",
        "plt.show()"
      ],
      "execution_count": 8,
      "outputs": [
        {
          "output_type": "display_data",
          "data": {
            "image/png": "[encoded data removed]",
            "text/plain": [
              "<Figure size 1152x576 with 2 Axes>"
            ]
          },
          "metadata": {
            "tags": [],
            "needs_background": "light"
          }
        }
      ]
    },
    {
      "cell_type": "markdown",
      "metadata": {
        "id": "8831ks2Xw3A2"
      },
      "source": [
        "**MLR Multiple linear regression**"
      ]
    },
    {
      "cell_type": "code",
      "metadata": {
        "id": "xYfdXusSwqyZ",
        "outputId": "8aa11e9c-6a07-42bf-9981-cd550d3a3828",
        "colab": {
          "base_uri": "https://localhost:8080/",
          "height": 204
        }
      },
      "source": [
        "x = df.drop('wqi',axis=1)\n",
        "x.head()"
      ],
      "execution_count": 9,
      "outputs": [
        {
          "output_type": "execute_result",
          "data": {
            "text/html": [
              "<div>\n",
              "<style scoped>\n",
              "    .dataframe tbody tr th:only-of-type {\n",
              "        vertical-align: middle;\n",
              "    }\n",
              "\n",
              "    .dataframe tbody tr th {\n",
              "        vertical-align: top;\n",
              "    }\n",
              "\n",
              "    .dataframe thead th {\n",
              "        text-align: right;\n",
              "    }\n",
              "</style>\n",
              "<table border=\"1\" class=\"dataframe\">\n",
              "  <thead>\n",
              "    <tr style=\"text-align: right;\">\n",
              "      <th></th>\n",
              "      <th>Ph</th>\n",
              "      <th>DO</th>\n",
              "      <th>BOD</th>\n",
              "      <th>TC</th>\n",
              "      <th>FC</th>\n",
              "    </tr>\n",
              "  </thead>\n",
              "  <tbody>\n",
              "    <tr>\n",
              "      <th>0</th>\n",
              "      <td>8.33</td>\n",
              "      <td>6.67</td>\n",
              "      <td>4.30</td>\n",
              "      <td>98435.33</td>\n",
              "      <td>93183.69</td>\n",
              "    </tr>\n",
              "    <tr>\n",
              "      <th>1</th>\n",
              "      <td>7.35</td>\n",
              "      <td>7.57</td>\n",
              "      <td>5.15</td>\n",
              "      <td>45222.91</td>\n",
              "      <td>61149.88</td>\n",
              "    </tr>\n",
              "    <tr>\n",
              "      <th>2</th>\n",
              "      <td>8.28</td>\n",
              "      <td>7.91</td>\n",
              "      <td>3.32</td>\n",
              "      <td>77784.31</td>\n",
              "      <td>63018.54</td>\n",
              "    </tr>\n",
              "    <tr>\n",
              "      <th>3</th>\n",
              "      <td>7.57</td>\n",
              "      <td>7.88</td>\n",
              "      <td>4.98</td>\n",
              "      <td>29773.00</td>\n",
              "      <td>74734.65</td>\n",
              "    </tr>\n",
              "    <tr>\n",
              "      <th>4</th>\n",
              "      <td>7.83</td>\n",
              "      <td>6.29</td>\n",
              "      <td>8.22</td>\n",
              "      <td>120213.00</td>\n",
              "      <td>22230.46</td>\n",
              "    </tr>\n",
              "  </tbody>\n",
              "</table>\n",
              "</div>"
            ],
            "text/plain": [
              "     Ph    DO   BOD         TC        FC\n",
              "0  8.33  6.67  4.30   98435.33  93183.69\n",
              "1  7.35  7.57  5.15   45222.91  61149.88\n",
              "2  8.28  7.91  3.32   77784.31  63018.54\n",
              "3  7.57  7.88  4.98   29773.00  74734.65\n",
              "4  7.83  6.29  8.22  120213.00  22230.46"
            ]
          },
          "metadata": {
            "tags": []
          },
          "execution_count": 9
        }
      ]
    },
    {
      "cell_type": "code",
      "metadata": {
        "id": "ZRT_qWeIw9x1",
        "outputId": "e68a58bc-d0bc-49fb-8ac6-d0a515dd1554",
        "colab": {
          "base_uri": "https://localhost:8080/"
        }
      },
      "source": [
        "y = df['wqi']\n",
        "y.head()"
      ],
      "execution_count": 10,
      "outputs": [
        {
          "output_type": "execute_result",
          "data": {
            "text/plain": [
              "0    55.14\n",
              "1    55.14\n",
              "2    55.14\n",
              "3    55.14\n",
              "4    48.48\n",
              "Name: wqi, dtype: float64"
            ]
          },
          "metadata": {
            "tags": []
          },
          "execution_count": 10
        }
      ]
    },
    {
      "cell_type": "code",
      "metadata": {
        "id": "sSGfHy7wxGWV"
      },
      "source": [
        "# importing train_test_split from sklearn\n",
        "from sklearn.model_selection import train_test_split\n",
        "# splitting the data\n",
        "x_train, x_test, y_train, y_test = train_test_split(x, y, test_size = 0.2, random_state = 42)"
      ],
      "execution_count": 11,
      "outputs": []
    },
    {
      "cell_type": "code",
      "metadata": {
        "id": "iOAwxSwHxU5k",
        "outputId": "7e5d8f4b-33b5-46eb-8a15-2fff7c2624ab",
        "colab": {
          "base_uri": "https://localhost:8080/"
        }
      },
      "source": [
        "# importing module\n",
        "from sklearn.linear_model import LinearRegression\n",
        "# creating an object of LinearRegression class\n",
        "LR = LinearRegression()\n",
        "# fitting the training data\n",
        "LR.fit(x_train,y_train)"
      ],
      "execution_count": 12,
      "outputs": [
        {
          "output_type": "execute_result",
          "data": {
            "text/plain": [
              "LinearRegression(copy_X=True, fit_intercept=True, n_jobs=None, normalize=False)"
            ]
          },
          "metadata": {
            "tags": []
          },
          "execution_count": 12
        }
      ]
    },
    {
      "cell_type": "code",
      "metadata": {
        "id": "XTmX_g9SxYFH",
        "outputId": "87d9ef34-1927-4c03-dd7c-f7031be56a03",
        "colab": {
          "base_uri": "https://localhost:8080/"
        }
      },
      "source": [
        "y_prediction =  LR.predict(x_test)\n",
        "y_prediction"
      ],
      "execution_count": 13,
      "outputs": [
        {
          "output_type": "execute_result",
          "data": {
            "text/plain": [
              "array([43.8447811 , 55.33183164, 51.38542377, 53.41155395, 48.30557835])"
            ]
          },
          "metadata": {
            "tags": []
          },
          "execution_count": 13
        }
      ]
    },
    {
      "cell_type": "code",
      "metadata": {
        "id": "C0wZQktRzgVc",
        "outputId": "24398914-6ec8-4dac-90a9-c0462cecee77",
        "colab": {
          "base_uri": "https://localhost:8080/"
        }
      },
      "source": [
        "from scipy.stats import spearmanr\n",
        "# calculate spearman's correlation\n",
        "corr, _ = spearmanr(y_test, y_prediction)\n",
        "print('Spearmans correlation: %.3f' % corr)"
      ],
      "execution_count": 14,
      "outputs": [
        {
          "output_type": "stream",
          "text": [
            "Spearmans correlation: 0.051\n"
          ],
          "name": "stdout"
        }
      ]
    },
    {
      "cell_type": "code",
      "metadata": {
        "id": "Jg8k43nzxbIQ",
        "outputId": "7d93b8b2-826e-412a-82f7-c4e90fe91872",
        "colab": {
          "base_uri": "https://localhost:8080/"
        }
      },
      "source": [
        "import numpy as np\n",
        "# importing r2_score module\n",
        "from sklearn.metrics import r2_score\n",
        "from sklearn.metrics import mean_squared_error\n",
        "# predicting the accuracy score\n",
        "score=r2_score(y_test,y_prediction)\n",
        "print('r2 score is',score)\n",
        "print('mean_sqrd_error is==',mean_squared_error(y_test,y_prediction))\n",
        "print('root_mean_squared error of is==',np.sqrt(mean_squared_error(y_test,y_prediction)))"
      ],
      "execution_count": 15,
      "outputs": [
        {
          "output_type": "stream",
          "text": [
            "r2 score is -0.4657477141148778\n",
            "mean_sqrd_error is== 49.55151281067259\n",
            "root_mean_squared error of is== 7.039283543846816\n"
          ],
          "name": "stdout"
        }
      ]
    },
    {
      "cell_type": "code",
      "metadata": {
        "id": "51XGJSCF22py",
        "outputId": "f04ea458-5449-4330-b9f1-79239488cddb",
        "colab": {
          "base_uri": "https://localhost:8080/",
          "height": 204
        }
      },
      "source": [
        "df = pd.DataFrame({'Actual': y_test, 'Predicted': y_prediction})\n",
        "df"
      ],
      "execution_count": 16,
      "outputs": [
        {
          "output_type": "execute_result",
          "data": {
            "text/html": [
              "<div>\n",
              "<style scoped>\n",
              "    .dataframe tbody tr th:only-of-type {\n",
              "        vertical-align: middle;\n",
              "    }\n",
              "\n",
              "    .dataframe tbody tr th {\n",
              "        vertical-align: top;\n",
              "    }\n",
              "\n",
              "    .dataframe thead th {\n",
              "        text-align: right;\n",
              "    }\n",
              "</style>\n",
              "<table border=\"1\" class=\"dataframe\">\n",
              "  <thead>\n",
              "    <tr style=\"text-align: right;\">\n",
              "      <th></th>\n",
              "      <th>Actual</th>\n",
              "      <th>Predicted</th>\n",
              "    </tr>\n",
              "  </thead>\n",
              "  <tbody>\n",
              "    <tr>\n",
              "      <th>8</th>\n",
              "      <td>45.12</td>\n",
              "      <td>43.844781</td>\n",
              "    </tr>\n",
              "    <tr>\n",
              "      <th>16</th>\n",
              "      <td>48.48</td>\n",
              "      <td>55.331832</td>\n",
              "    </tr>\n",
              "    <tr>\n",
              "      <th>0</th>\n",
              "      <td>55.14</td>\n",
              "      <td>51.385424</td>\n",
              "    </tr>\n",
              "    <tr>\n",
              "      <th>18</th>\n",
              "      <td>55.14</td>\n",
              "      <td>53.411554</td>\n",
              "    </tr>\n",
              "    <tr>\n",
              "      <th>11</th>\n",
              "      <td>61.80</td>\n",
              "      <td>48.305578</td>\n",
              "    </tr>\n",
              "  </tbody>\n",
              "</table>\n",
              "</div>"
            ],
            "text/plain": [
              "    Actual  Predicted\n",
              "8    45.12  43.844781\n",
              "16   48.48  55.331832\n",
              "0    55.14  51.385424\n",
              "18   55.14  53.411554\n",
              "11   61.80  48.305578"
            ]
          },
          "metadata": {
            "tags": []
          },
          "execution_count": 16
        }
      ]
    },
    {
      "cell_type": "code",
      "metadata": {
        "id": "k6QSd0-C23zP",
        "outputId": "3957581a-230a-471a-9a69-5ed7cbe72582",
        "colab": {
          "base_uri": "https://localhost:8080/"
        }
      },
      "source": [
        "from sklearn import metrics\n",
        "print('Mean Absolute Error:', metrics.mean_absolute_error(y_test, y_prediction))\n",
        "print('Mean Squared Error:', metrics.mean_squared_error(y_test, y_prediction))\n",
        "print('Root Mean Squared Error:', np.sqrt(metrics.mean_squared_error(y_test, y_prediction)))"
      ],
      "execution_count": 17,
      "outputs": [
        {
          "output_type": "stream",
          "text": [
            "Mean Absolute Error: 5.42089889355726\n",
            "Mean Squared Error: 49.55151281067259\n",
            "Root Mean Squared Error: 7.039283543846816\n"
          ],
          "name": "stdout"
        }
      ]
    },
    {
      "cell_type": "code",
      "metadata": {
        "id": "UvJ2Xh9L8ZuE"
      },
      "source": [
        ""
      ],
      "execution_count": 17,
      "outputs": []
    }
  ]
}